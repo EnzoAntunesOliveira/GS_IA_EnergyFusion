{
  "nbformat": 4,
  "nbformat_minor": 0,
  "metadata": {
    "colab": {
      "provenance": [],
      "collapsed_sections": [
        "o6C2-jik9u_A",
        "wJTPCwG6e_0N",
        "6BR-zlL7ZxjE",
        "4LW7t1MAaPe_",
        "T0NWyG67bRDC",
        "G187vvNbb82R",
        "APtstT3lmPon",
        "83ToBokGezrN"
      ]
    },
    "kernelspec": {
      "name": "python3",
      "display_name": "Python 3"
    },
    "language_info": {
      "name": "python"
    }
  },
  "cells": [
    {
      "cell_type": "markdown",
      "source": [
        "# GS_IA_ML\n",
        "### Arthur Fenili RM 552752\n",
        "### Enzo Antunes Oliveira RM 553185\n",
        "### Vinicío Raphael RM 553813"
      ],
      "metadata": {
        "id": "BiszhuWGsKFP"
      }
    },
    {
      "cell_type": "markdown",
      "source": [
        "# Importações"
      ],
      "metadata": {
        "id": "o6C2-jik9u_A"
      }
    },
    {
      "cell_type": "code",
      "source": [
        "# Importações\n",
        "!pip install pdfplumber\n",
        "import pdfplumber\n",
        "import pandas as pd\n",
        "import numpy as np\n",
        "import matplotlib.pyplot as plt\n",
        "import seaborn as sns\n",
        "import warnings\n",
        "from sklearn.preprocessing import MinMaxScaler\n",
        "from sklearn.model_selection import train_test_split\n",
        "from sklearn.linear_model import LinearRegression\n",
        "from sklearn.preprocessing import MinMaxScaler\n",
        "from sklearn.ensemble import RandomForestRegressor\n",
        "from sklearn.metrics import mean_absolute_error, mean_squared_error, r2_score\n",
        "from sklearn.impute import SimpleImputer\n",
        "warnings.filterwarnings(\"ignore\")"
      ],
      "metadata": {
        "colab": {
          "base_uri": "https://localhost:8080/"
        },
        "id": "etyg_RM190M4",
        "outputId": "11c2164a-3c65-4c52-bbbe-af4f2ff6fda7"
      },
      "execution_count": 3,
      "outputs": [
        {
          "output_type": "stream",
          "name": "stdout",
          "text": [
            "Requirement already satisfied: pdfplumber in /usr/local/lib/python3.10/dist-packages (0.11.4)\n",
            "Requirement already satisfied: pdfminer.six==20231228 in /usr/local/lib/python3.10/dist-packages (from pdfplumber) (20231228)\n",
            "Requirement already satisfied: Pillow>=9.1 in /usr/local/lib/python3.10/dist-packages (from pdfplumber) (11.0.0)\n",
            "Requirement already satisfied: pypdfium2>=4.18.0 in /usr/local/lib/python3.10/dist-packages (from pdfplumber) (4.30.0)\n",
            "Requirement already satisfied: charset-normalizer>=2.0.0 in /usr/local/lib/python3.10/dist-packages (from pdfminer.six==20231228->pdfplumber) (3.4.0)\n",
            "Requirement already satisfied: cryptography>=36.0.0 in /usr/local/lib/python3.10/dist-packages (from pdfminer.six==20231228->pdfplumber) (43.0.3)\n",
            "Requirement already satisfied: cffi>=1.12 in /usr/local/lib/python3.10/dist-packages (from cryptography>=36.0.0->pdfminer.six==20231228->pdfplumber) (1.17.1)\n",
            "Requirement already satisfied: pycparser in /usr/local/lib/python3.10/dist-packages (from cffi>=1.12->cryptography>=36.0.0->pdfminer.six==20231228->pdfplumber) (2.22)\n"
          ]
        }
      ]
    },
    {
      "cell_type": "markdown",
      "source": [
        "# Treinamento da IA para Predição de Consumo de Energia"
      ],
      "metadata": {
        "id": "wJTPCwG6e_0N"
      }
    },
    {
      "cell_type": "markdown",
      "source": [
        "### Micro-Ondas"
      ],
      "metadata": {
        "id": "6BR-zlL7ZxjE"
      }
    },
    {
      "cell_type": "code",
      "source": [
        "# Pre-processamento para Micro-ondas\n",
        "df_micro_ondas = pd.read_csv('/content/Micro-Ondas.csv')\n",
        "\n",
        "# Transformando variáveis categóricas em dummies\n",
        "categorical_cols = ['fornecedor', 'marca', 'modelo', 'voltagem', 'consumo_modo_espera', 'eficiencia_energetica', 'classificacao']\n",
        "df_micro_ondas = pd.get_dummies(df_micro_ondas, columns=categorical_cols, drop_first=True)\n",
        "\n",
        "# Separando variáveis independentes e dependentes\n",
        "X_micro_ondas = df_micro_ondas.drop('potencia_nominal', axis=1)\n",
        "y_micro_ondas = df_micro_ondas['potencia_nominal']\n",
        "\n",
        "# Dividindo em treino e teste\n",
        "X_train, X_test, y_train, y_test = train_test_split(X_micro_ondas, y_micro_ondas, test_size=0.2, random_state=42)\n",
        "\n",
        "# Treinando o modelo\n",
        "model_micro_ondas = LinearRegression()\n",
        "model_micro_ondas.fit(X_train, y_train)\n",
        "\n",
        "# Avaliação\n",
        "y_pred = model_micro_ondas.predict(X_test)\n",
        "mae = mean_absolute_error(y_test, y_pred)\n",
        "rmse = np.sqrt(mean_squared_error(y_test, y_pred))\n",
        "print(\"Micro-ondas - MAE:\", mae, \"RMSE:\", rmse)\n"
      ],
      "metadata": {
        "colab": {
          "base_uri": "https://localhost:8080/"
        },
        "id": "EFO6xi9HZsr2",
        "outputId": "a9624e54-d5de-403c-bf63-e1a6e5d51f8c"
      },
      "execution_count": 4,
      "outputs": [
        {
          "output_type": "stream",
          "name": "stdout",
          "text": [
            "Micro-ondas - MAE: 2.8577093662236015 RMSE: 3.5587460703049683\n"
          ]
        }
      ]
    },
    {
      "cell_type": "markdown",
      "source": [
        "### Máquina de Lavar"
      ],
      "metadata": {
        "id": "4LW7t1MAaPe_"
      }
    },
    {
      "cell_type": "code",
      "source": [
        "# Pre-processamento para Lavadoras Automáticas\n",
        "df_lavadoras = pd.read_csv('/content/Lavadoras_Automaticas.csv')\n",
        "\n",
        "# Removendo linhas onde 'capacidade_kg' não é um valor numérico\n",
        "df_lavadoras = df_lavadoras[pd.to_numeric(df_lavadoras['capacidade_kg'], errors='coerce').notnull()]\n",
        "df_lavadoras['capacidade_kg'] = df_lavadoras['capacidade_kg'].astype(float)\n",
        "\n",
        "# Transformando variáveis categóricas em dummies\n",
        "categorical_cols = ['fabricante', 'marca', 'modelo', 'voltagem', 'eficiencia_lavagem', 'eficiencia_centrifugacao']\n",
        "df_lavadoras = pd.get_dummies(df_lavadoras, columns=categorical_cols, drop_first=True)\n",
        "\n",
        "# Preenchendo valores ausentes com a média\n",
        "imputer = SimpleImputer(strategy='mean')\n",
        "df_lavadoras = pd.DataFrame(imputer.fit_transform(df_lavadoras), columns=df_lavadoras.columns)\n",
        "\n",
        "# Separando variáveis independentes e dependentes\n",
        "X_lavadoras = df_lavadoras.drop('consumo_energia', axis=1)\n",
        "y_lavadoras = df_lavadoras['consumo_energia']\n",
        "\n",
        "# Dividindo em treino e teste\n",
        "X_train, X_test, y_train, y_test = train_test_split(X_lavadoras, y_lavadoras, test_size=0.2, random_state=42)\n",
        "\n",
        "# Treinando o modelo\n",
        "model_lavadoras = LinearRegression()\n",
        "model_lavadoras.fit(X_train, y_train)\n",
        "\n",
        "# Avaliação\n",
        "y_pred = model_lavadoras.predict(X_test)\n",
        "mae = mean_absolute_error(y_test, y_pred)\n",
        "rmse = np.sqrt(mean_squared_error(y_test, y_pred))\n",
        "print(\"Lavadoras - MAE:\", mae, \"RMSE:\", rmse)\n"
      ],
      "metadata": {
        "colab": {
          "base_uri": "https://localhost:8080/"
        },
        "id": "Aps_NiBxaVMB",
        "outputId": "2794cbed-5033-49d4-b1a8-d4f824095e8a"
      },
      "execution_count": 5,
      "outputs": [
        {
          "output_type": "stream",
          "name": "stdout",
          "text": [
            "Lavadoras - MAE: 0.015619290747559201 RMSE: 0.02018615673759997\n"
          ]
        }
      ]
    },
    {
      "cell_type": "markdown",
      "source": [
        "### Ventiladores de Mesa"
      ],
      "metadata": {
        "id": "T0NWyG67bRDC"
      }
    },
    {
      "cell_type": "code",
      "source": [
        "# Carregar o arquivo CSV\n",
        "df_ventiladores = pd.read_csv('/content/Ventiladores_de_Mesa.csv')\n",
        "\n",
        "# Substituir valores não numéricos como '-' por NaN\n",
        "df_ventiladores.replace('-', np.nan, inplace=True)\n",
        "\n",
        "# Remover a unidade 'W' da coluna 'potencia' e converter para numérico\n",
        "df_ventiladores['potencia'] = df_ventiladores['potencia'].replace('W', '', regex=True).astype(float)\n",
        "\n",
        "# Transformar variáveis categóricas em dummies\n",
        "categorical_cols = ['fornecedor', 'marca', 'modelo', 'voltagem', 'material_helice', 'material_grade']\n",
        "df_ventiladores = pd.get_dummies(df_ventiladores, columns=categorical_cols, drop_first=True)\n",
        "\n",
        "# Preencher valores ausentes com a média nas colunas numéricas\n",
        "numerical_cols = df_ventiladores.select_dtypes(include=[np.number]).columns\n",
        "imputer = SimpleImputer(strategy='mean')\n",
        "df_ventiladores[numerical_cols] = imputer.fit_transform(df_ventiladores[numerical_cols])\n",
        "\n",
        "# Separar variáveis independentes e dependentes\n",
        "X_ventiladores = df_ventiladores.drop('potencia', axis=1)\n",
        "y_ventiladores = df_ventiladores['potencia']\n",
        "\n",
        "# Dividir em treino e teste\n",
        "X_train, X_test, y_train, y_test = train_test_split(X_ventiladores, y_ventiladores, test_size=0.2, random_state=42)\n",
        "\n",
        "# Treinar o modelo\n",
        "model_ventiladores = LinearRegression()\n",
        "model_ventiladores.fit(X_train, y_train)\n",
        "\n",
        "# Avaliação\n",
        "y_pred = model_ventiladores.predict(X_test)\n",
        "mae = mean_absolute_error(y_test, y_pred)\n",
        "rmse = np.sqrt(mean_squared_error(y_test, y_pred))\n",
        "print(\"Ventiladores - MAE:\", mae, \"RMSE:\", rmse)\n"
      ],
      "metadata": {
        "colab": {
          "base_uri": "https://localhost:8080/"
        },
        "id": "LYqJHF8cbXOj",
        "outputId": "4f3c03a8-784d-496e-baf2-4ed270b88dee"
      },
      "execution_count": 6,
      "outputs": [
        {
          "output_type": "stream",
          "name": "stdout",
          "text": [
            "Ventiladores - MAE: 8.60284721252423 RMSE: 10.602895874706418\n"
          ]
        }
      ]
    },
    {
      "cell_type": "markdown",
      "source": [
        "### Ventiladores de Teto"
      ],
      "metadata": {
        "id": "G187vvNbb82R"
      }
    },
    {
      "cell_type": "code",
      "source": [
        "# Pre-processamento para Ventiladores de Teto\n",
        "df_ventiladores_teto = pd.read_csv('/content/Ventiladores_de_Teto.csv')\n",
        "\n",
        "# Transformando variáveis categóricas em dummies\n",
        "categorical_cols = ['fornecedor', 'marca', 'modelo', 'voltagem', 'material_helice', 'controle_velocidade']\n",
        "df_ventiladores_teto = pd.get_dummies(df_ventiladores_teto, columns=categorical_cols, drop_first=True)\n",
        "\n",
        "# Separando variáveis independentes e dependentes\n",
        "X_ventiladores_teto = df_ventiladores_teto.drop(['potencia_alta', 'potencia_media', 'potencia_baixa'], axis=1)\n",
        "y_ventiladores_teto = df_ventiladores_teto['potencia_alta']\n",
        "\n",
        "# Dividindo em treino e teste\n",
        "X_train, X_test, y_train, y_test = train_test_split(X_ventiladores_teto, y_ventiladores_teto, test_size=0.2, random_state=42)\n",
        "\n",
        "# Treinando o modelo\n",
        "model_ventiladores_teto = LinearRegression()\n",
        "model_ventiladores_teto.fit(X_train, y_train)\n",
        "\n",
        "# Avaliação\n",
        "y_pred = model_ventiladores_teto.predict(X_test)\n",
        "mae = mean_absolute_error(y_test, y_pred)\n",
        "rmse = np.sqrt(mean_squared_error(y_test, y_pred))\n",
        "print(\"Ventiladores de Teto - MAE:\", mae, \"RMSE:\", rmse)\n"
      ],
      "metadata": {
        "colab": {
          "base_uri": "https://localhost:8080/"
        },
        "id": "dKDQdpTicsgy",
        "outputId": "2216f0be-909a-4d6d-fa61-9e0ad8791fea"
      },
      "execution_count": 7,
      "outputs": [
        {
          "output_type": "stream",
          "name": "stdout",
          "text": [
            "Ventiladores de Teto - MAE: 4.495425522647858 RMSE: 5.7872067479842775\n"
          ]
        }
      ]
    },
    {
      "cell_type": "markdown",
      "source": [
        "# Interação com o Usuário"
      ],
      "metadata": {
        "id": "83ToBokGezrN"
      }
    },
    {
      "cell_type": "code",
      "source": [
        "# Importações necessárias\n",
        "import pandas as pd\n",
        "\n",
        "# Usando os modelos pré-treinados\n",
        "modelos = {\n",
        "    'Micro-ondas': model_micro_ondas,\n",
        "    'Lavadora': model_lavadoras,\n",
        "    'Ventilador de Mesa': model_ventiladores,\n",
        "    'Ventilador de Teto': model_ventiladores_teto\n",
        "}\n",
        "\n",
        "# Colunas dummy para compatibilidade com as previsões\n",
        "dummies = {\n",
        "    'Micro-ondas': X_micro_ondas.columns.tolist(),\n",
        "    'Lavadora': X_lavadoras.columns.tolist(),\n",
        "    'Ventilador de Mesa': X_ventiladores.columns.tolist(),\n",
        "    'Ventilador de Teto': X_ventiladores_teto.columns.tolist()\n",
        "}\n",
        "\n",
        "# Dados de opções para cada categoria, usados na interação\n",
        "dados_unicos = {\n",
        "    'Micro-ondas': {'marca': ['ARNO', 'MALLORY'], 'modelo': ['Silence Force'], 'voltagem': ['127', '220']},\n",
        "    'Lavadora': {'marca': ['LG', 'SAMSUNG'], 'modelo': ['Turbo'], 'voltagem': ['127', '220']},\n",
        "    'Ventilador de Mesa': {'marca': ['ARNO', 'MALLORY'], 'modelo': ['Silence Force', 'Turbo Silence'], 'voltagem': ['127', '220']},\n",
        "    'Ventilador de Teto': {'marca': ['ARNO'], 'modelo': ['Sky'], 'voltagem': ['127', '220']}\n",
        "}\n",
        "\n",
        "# Função de previsão interativa com escolha de entrada pelo usuário\n",
        "def prever_consumo_interativo():\n",
        "    # Escolher categoria\n",
        "    print(\"Selecione o tipo de eletrodoméstico:\")\n",
        "    categorias = list(modelos.keys())\n",
        "    for i, categoria in enumerate(categorias, 1):\n",
        "        print(f\"{i}. {categoria}\")\n",
        "    categoria_idx = int(input(\"Digite o número correspondente à categoria: \")) - 1\n",
        "    categoria = categorias[categoria_idx]\n",
        "\n",
        "    # Escolher marca\n",
        "    print(f\"\\nVocê selecionou {categoria}. Escolha a marca:\")\n",
        "    marcas = dados_unicos[categoria]['marca']\n",
        "    for i, marca in enumerate(marcas, 1):\n",
        "        print(f\"{i}. {marca}\")\n",
        "    marca_idx = int(input(\"Digite o número correspondente à marca: \")) - 1\n",
        "    marca = marcas[marca_idx]\n",
        "\n",
        "    # Escolher modelo\n",
        "    print(\"\\nEscolha o modelo:\")\n",
        "    modelos_disponiveis = dados_unicos[categoria]['modelo']\n",
        "    for i, modelo in enumerate(modelos_disponiveis, 1):\n",
        "        print(f\"{i}. {modelo}\")\n",
        "    modelo_idx = int(input(\"Digite o número correspondente ao modelo: \")) - 1\n",
        "    modelo = modelos_disponiveis[modelo_idx]\n",
        "\n",
        "    # Escolher voltagem\n",
        "    print(\"\\nEscolha a voltagem:\")\n",
        "    voltages = dados_unicos[categoria]['voltagem']\n",
        "    for i, voltagem in enumerate(voltages, 1):\n",
        "        print(f\"{i}. {voltagem}\")\n",
        "    voltagem_idx = int(input(\"Digite o número correspondente à voltagem: \")) - 1\n",
        "    voltagem = voltages[voltagem_idx]\n",
        "\n",
        "    # Preparar dados do usuário\n",
        "    dados_usuario = {'marca': marca, 'modelo': modelo, 'voltagem': voltagem}\n",
        "    df_dados_usuario = pd.DataFrame([dados_usuario])\n",
        "    df_dados_usuario = pd.get_dummies(df_dados_usuario)\n",
        "    df_dados_usuario = df_dados_usuario.reindex(columns=dummies[categoria], fill_value=0)\n",
        "\n",
        "    # Realizando a previsão\n",
        "    previsao = modelos[categoria].predict(df_dados_usuario)\n",
        "    print(f\"\\nPrevisão de consumo de energia para {categoria} ({marca} {modelo} {voltagem}V): {previsao[0]:.2f} kWh\")\n",
        "\n",
        "# Executar a função interativa\n",
        "prever_consumo_interativo()\n"
      ],
      "metadata": {
        "colab": {
          "base_uri": "https://localhost:8080/"
        },
        "id": "zKWFvnz2e7Dq",
        "outputId": "9c5cde4c-7658-4aeb-acdf-5b91aac788cd"
      },
      "execution_count": 23,
      "outputs": [
        {
          "output_type": "stream",
          "name": "stdout",
          "text": [
            "Selecione o tipo de eletrodoméstico:\n",
            "1. Micro-ondas\n",
            "2. Lavadora\n",
            "3. Ventilador de Mesa\n",
            "4. Ventilador de Teto\n",
            "Digite o número correspondente à categoria: 1\n",
            "\n",
            "Você selecionou Micro-ondas. Escolha a marca:\n",
            "1. ARNO\n",
            "2. MALLORY\n",
            "Digite o número correspondente à marca: 1\n",
            "\n",
            "Escolha o modelo:\n",
            "1. Silence Force\n",
            "Digite o número correspondente ao modelo: 1\n",
            "\n",
            "Escolha a voltagem:\n",
            "1. 127\n",
            "2. 220\n",
            "Digite o número correspondente à voltagem: 2\n",
            "\n",
            "Previsão de consumo de energia para Micro-ondas (ARNO Silence Force 220V): 20.43 kWh\n"
          ]
        }
      ]
    }
  ]
}